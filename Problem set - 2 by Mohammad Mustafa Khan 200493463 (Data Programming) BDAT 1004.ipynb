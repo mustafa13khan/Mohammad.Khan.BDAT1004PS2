{
 "cells": [
  {
   "cell_type": "code",
   "execution_count": null,
   "id": "3cb22ff6",
   "metadata": {},
   "outputs": [],
   "source": [
    "# Answer 1"
   ]
  },
  {
   "cell_type": "code",
   "execution_count": 26,
   "id": "0c290ce6",
   "metadata": {},
   "outputs": [
    {
     "name": "stdout",
     "output_type": "stream",
     "text": [
      "File idterm.py not found.\n"
     ]
    }
   ],
   "source": [
    "# Answer 2 \n",
    "def fileLength(fileName):\n",
    "    try:\n",
    "        content = open(fileName).read()\n",
    "        length = len(content)\n",
    "        print(\"length is {name} is {length}\".format(name = fileName, length = length))\n",
    "    except FileNotFoundError:\n",
    "        print(\"File {} not found.\".format(fileName))\n",
    "        \n",
    "fileLength(\"idterm.py\")"
   ]
  },
  {
   "cell_type": "code",
   "execution_count": 8,
   "id": "3aef6df4",
   "metadata": {},
   "outputs": [
    {
     "name": "stdout",
     "output_type": "stream",
     "text": [
      "['doll', 'firetruck', 'kitten']\n"
     ]
    }
   ],
   "source": [
    "# Answer 3 \n",
    "class Marsupial:\n",
    "    def __init__(self):\n",
    "        self.pouch = []\n",
    "    def put_in_pouch(self,data):\n",
    "        self.pouch.append(data)\n",
    "    def pouch_contents(self):\n",
    "        print(self.pouch)\n",
    "\n",
    "m = Marsupial()\n",
    "\n",
    "m.put_in_pouch('doll')\n",
    "m.put_in_pouch('firetruck')\n",
    "m.put_in_pouch('kitten')\n",
    "m.pouch_contents()"
   ]
  },
  {
   "cell_type": "code",
   "execution_count": 9,
   "id": "8d711616",
   "metadata": {},
   "outputs": [
    {
     "name": "stdout",
     "output_type": "stream",
     "text": [
      "I am a Kangaroo located at coordinates (0,0)\n",
      "['doll', 'firetruck', 'kitten']\n",
      "I am a Kangaroo located at coordinates (3,0)\n"
     ]
    }
   ],
   "source": [
    "class Kangaroo(Marsupial):\n",
    "    \n",
    "    def __init__(self, x, y):\n",
    "        super().__init__()\n",
    "        self.cX = x\n",
    "        self.cY = y \n",
    "        \n",
    "    def jump(self, x, y):\n",
    "        self.cX += x\n",
    "        self.cY += y\n",
    "        \n",
    "    def __str__(self):\n",
    "        return f\"I am a Kangaroo located at coordinates ({self.cX},{self.cY})\"\n",
    "        \n",
    "k = Kangaroo(0,0)\n",
    "print(k)\n",
    "k.put_in_pouch('doll')\n",
    "k.put_in_pouch('firetruck')\n",
    "k.put_in_pouch('kitten')\n",
    "k.pouch_contents()\n",
    "k.jump(1,0)\n",
    "k.jump(1,0)\n",
    "k.jump(1,0)\n",
    "print(k)"
   ]
  },
  {
   "cell_type": "code",
   "execution_count": 10,
   "id": "406b00ef",
   "metadata": {},
   "outputs": [
    {
     "name": "stdout",
     "output_type": "stream",
     "text": [
      "10\n",
      "5\n",
      "16\n",
      "8\n",
      "4\n",
      "2\n",
      "1\n"
     ]
    }
   ],
   "source": [
    "# Answer 4\n",
    "def collatz(n):\n",
    "    if n == 1:\n",
    "        print(n)\n",
    "    elif n % 2 == 0:\n",
    "        print(n)\n",
    "        collatz(n//2)\n",
    "    else:\n",
    "        print(n)\n",
    "        collatz((n * 3) + 1)\n",
    "collatz(10)"
   ]
  },
  {
   "cell_type": "code",
   "execution_count": 11,
   "id": "ab142912",
   "metadata": {},
   "outputs": [
    {
     "name": "stdout",
     "output_type": "stream",
     "text": [
      "Enter non-negative number : 3\n",
      "11\n",
      "Enter non-negative number : 5\n",
      "101\n",
      "Enter non-negative number : 9\n",
      "1001\n",
      "Enter non-negative number : 7\n",
      "111\n",
      "Enter non-negative number : -5\n",
      "It is negative number. please enter non-negative number\n",
      "Enter non-negative number : \n",
      "Error found!\n"
     ]
    }
   ],
   "source": [
    "# Answer 5\n",
    "def binary():\n",
    "    try:\n",
    "        inputValue = int(input('Enter non-negative number : '))\n",
    "        if inputValue >= 0:\n",
    "            print(f'{inputValue:0b}')\n",
    "            binary()\n",
    "        else:\n",
    "            print(\"It is negative number. please enter non-negative number\")\n",
    "            binary()\n",
    "    except:\n",
    "        print(\"Error found!\")\n",
    "binary()"
   ]
  },
  {
   "cell_type": "code",
   "execution_count": 28,
   "id": "e93f3474",
   "metadata": {},
   "outputs": [
    {
     "name": "stdout",
     "output_type": "stream",
     "text": [
      "W3C Mission\n",
      "\tPrinciples\n"
     ]
    }
   ],
   "source": [
    "# Answer 6\n",
    "from html.parser import HTMLParser\n",
    "\n",
    "class HeadingParser(HTMLParser):\n",
    "    h1Found = False\n",
    "    h2Found = False\n",
    "    def handle_starttag(self, tag, attrs):\n",
    "        if tag == \"h1\":\n",
    "            self.h1Found = True\n",
    "        elif tag == \"h2\":\n",
    "            self.h2Found = True\n",
    "    def handle_data(self, data):\n",
    "        if self.h1Found:\n",
    "            print(data)\n",
    "        if self.h2Found:\n",
    "            print('\\t'*1 + data)\n",
    "    def handle_endtag(self, tag):\n",
    "        if tag ==\"h1\":\n",
    "            self.h1Found = False\n",
    "        elif tag == \"h2\":\n",
    "            self.h2Found = False\n",
    "\n",
    "hp = HeadingParser()\n",
    "file = open('w3c.html')\n",
    "html = file.read()\n",
    "file.close()\n",
    "hp.feed(html)"
   ]
  },
  {
   "cell_type": "code",
   "execution_count": null,
   "id": "4f680c6c",
   "metadata": {},
   "outputs": [],
   "source": [
    "# Answer 7"
   ]
  },
  {
   "cell_type": "code",
   "execution_count": 29,
   "id": "bcfee8f0",
   "metadata": {},
   "outputs": [],
   "source": [
    "# Answer 8\n",
    "import sqlite3"
   ]
  },
  {
   "cell_type": "code",
   "execution_count": 30,
   "id": "6125f138",
   "metadata": {},
   "outputs": [],
   "source": [
    "con=sqlite3.connect('GlobalData.db')\n",
    "cur=con.cursor()"
   ]
  },
  {
   "cell_type": "code",
   "execution_count": 31,
   "id": "0b4e871e",
   "metadata": {},
   "outputs": [],
   "source": [
    "cur.execute('create table World(City text,Country text,Season text,Temprature FLOAT,Rainfall FLOAT );');"
   ]
  },
  {
   "cell_type": "code",
   "execution_count": 32,
   "id": "db1a672b",
   "metadata": {},
   "outputs": [
    {
     "data": {
      "text/plain": [
       "<sqlite3.Cursor at 0x1730cef1ab0>"
      ]
     },
     "execution_count": 32,
     "metadata": {},
     "output_type": "execute_result"
    }
   ],
   "source": [
    "cur.execute('INSERT INTO World(City,Country,Season,Temprature,Rainfall) VALUES(\"Mumbai\",\"India\",\"Winter\",24.8,5.9);')\n",
    "cur.execute('INSERT INTO World(City,Country,Season,Temprature,Rainfall) VALUES(\"Mumbai\",\"India\",\"Spring\",28.4,16.2);')\n",
    "cur.execute('INSERT INTO World(City,Country,Season,Temprature,Rainfall) VALUES(\"Mumbai\",\"India\",\"Summer\",27.9,1549.4);')\n",
    "cur.execute('INSERT INTO World(City,Country,Season,Temprature,Rainfall) VALUES(\"Mumbai\",\"India\",\"Fall\",27.6,346.0);')\n",
    "\n",
    "cur.execute('INSERT INTO World(City,Country,Season,Temprature,Rainfall) VALUES(\"London\",\"United Kingdom\",\"Winter\",4.2,207.7);')\n",
    "cur.execute('INSERT INTO World(City,Country,Season,Temprature,Rainfall) VALUES(\"London\",\"United Kingdom\",\"Spring\",8.3,169.6);')\n",
    "cur.execute('INSERT INTO World(City,Country,Season,Temprature,Rainfall) VALUES(\"London\",\"United Kingdom\",\"Summer\",15.7,157.0);')\n",
    "cur.execute('INSERT INTO World(City,Country,Season,Temprature,Rainfall) VALUES(\"London\",\"United Kingdom\",\"Fall\",10.4,218.5);')\n",
    "\n",
    "cur.execute('INSERT INTO World(City,Country,Season,Temprature,Rainfall) VALUES(\"Cairo\",\"Egypt\",\"Winter\",13.6,16.5);')\n",
    "cur.execute('INSERT INTO World(City,Country,Season,Temprature,Rainfall) VALUES(\"Cairo\",\"Egypt\",\"Spring\",20.7,6.5);')\n",
    "cur.execute('INSERT INTO World(City,Country,Season,Temprature,Rainfall) VALUES(\"Cairo\",\"Egypt\",\"Summer\",27.7,0.1);')\n",
    "cur.execute('INSERT INTO World(City,Country,Season,Temprature,Rainfall) VALUES(\"Cairo\",\"Egypt\",\"Fall\",22.2,4.5);')"
   ]
  },
  {
   "cell_type": "code",
   "execution_count": 33,
   "id": "d57dfda7",
   "metadata": {},
   "outputs": [
    {
     "name": "stdout",
     "output_type": "stream",
     "text": [
      "(24.8,)\n",
      "(28.4,)\n",
      "(27.9,)\n",
      "(27.6,)\n",
      "(4.2,)\n",
      "(8.3,)\n",
      "(15.7,)\n",
      "(10.4,)\n",
      "(13.6,)\n",
      "(20.7,)\n",
      "(27.7,)\n",
      "(22.2,)\n"
     ]
    }
   ],
   "source": [
    "#a) All the temperature data.\n",
    "for row in cur.execute('SELECT Temprature FROM World;'):\n",
    "    print(row)\n",
    "    "
   ]
  },
  {
   "cell_type": "code",
   "execution_count": 34,
   "id": "ba19c022",
   "metadata": {},
   "outputs": [
    {
     "name": "stdout",
     "output_type": "stream",
     "text": [
      "('Mumbai',)\n",
      "('London',)\n",
      "('Cairo',)\n"
     ]
    }
   ],
   "source": [
    "#b) All the cities, but without repetition.\n",
    "for row in cur.execute('SELECT DISTINCT City FROM World;'):\n",
    "    print(row)"
   ]
  },
  {
   "cell_type": "code",
   "execution_count": 35,
   "id": "74aa56eb",
   "metadata": {},
   "outputs": [
    {
     "name": "stdout",
     "output_type": "stream",
     "text": [
      "('Mumbai', 'India', 'Winter', 24.8, 5.9)\n",
      "('Mumbai', 'India', 'Spring', 28.4, 16.2)\n",
      "('Mumbai', 'India', 'Summer', 27.9, 1549.4)\n",
      "('Mumbai', 'India', 'Fall', 27.6, 346.0)\n"
     ]
    }
   ],
   "source": [
    "#c) All the records for India.\n",
    "for row in cur.execute('SELECT * FROM World WHERE Country = \"India\";'):\n",
    "    print(row)"
   ]
  },
  {
   "cell_type": "code",
   "execution_count": 36,
   "id": "1110fff9",
   "metadata": {},
   "outputs": [
    {
     "name": "stdout",
     "output_type": "stream",
     "text": [
      "('Mumbai', 'India', 'Fall', 27.6, 346.0)\n",
      "('London', 'United Kingdom', 'Fall', 10.4, 218.5)\n",
      "('Cairo', 'Egypt', 'Fall', 22.2, 4.5)\n"
     ]
    }
   ],
   "source": [
    "#d) All the Fall records.\n",
    "for row in cur.execute('SELECT * FROM World WHERE Season = \"Fall\";'):\n",
    "    print(row)"
   ]
  },
  {
   "cell_type": "code",
   "execution_count": 37,
   "id": "5ed74d57",
   "metadata": {},
   "outputs": [
    {
     "name": "stdout",
     "output_type": "stream",
     "text": [
      "('Mumbai', 'India', 'Fall')\n",
      "('London', 'United Kingdom', 'Winter')\n",
      "('London', 'United Kingdom', 'Fall')\n"
     ]
    }
   ],
   "source": [
    "#e) The city, country, and season for which the average rainfall is between 200 and 400 millimeters.\n",
    "\n",
    "for row in cur.execute('SELECT City,Country,Season FROM World WHERE Rainfall BETWEEN 200 AND 400;'):\n",
    "    print(row)"
   ]
  },
  {
   "cell_type": "code",
   "execution_count": 38,
   "id": "93611abb",
   "metadata": {},
   "outputs": [
    {
     "name": "stdout",
     "output_type": "stream",
     "text": [
      "('Cairo', 'Egypt')\n",
      "('Mumbai', 'India')\n"
     ]
    }
   ],
   "source": [
    "# f) The city and country for which the average Fall temperature is above 20 degrees, in increasing temperature order.\n",
    "# QUERY 1 - this for get only City and Country which have temprature above 20 degrees\n",
    "\n",
    "for row in cur.execute('SELECT City,Country FROM World WHERE Season = \"Fall\" AND Temprature > 20 ORDER BY Temprature;'):\n",
    "    print(row)"
   ]
  },
  {
   "cell_type": "code",
   "execution_count": 39,
   "id": "884a8c0f",
   "metadata": {},
   "outputs": [
    {
     "name": "stdout",
     "output_type": "stream",
     "text": [
      "(27.6,)\n"
     ]
    }
   ],
   "source": [
    "#g) The total annual rainfall for Cairo.\n",
    "for row in cur.execute('SELECT SUM(Rainfall) FROM World WHERE City = \"Cairo\";'):\n",
    "    print(row)"
   ]
  },
  {
   "cell_type": "code",
   "execution_count": 40,
   "id": "e99a1cd2",
   "metadata": {},
   "outputs": [
    {
     "name": "stdout",
     "output_type": "stream",
     "text": [
      "('Fall', 569.0)\n",
      "('Spring', 192.29999999999998)\n",
      "('Summer', 1706.5)\n",
      "('Winter', 230.1)\n"
     ]
    }
   ],
   "source": [
    "#h) The total rainfall for each season.\n",
    "for row in cur.execute('SELECT Season, SUM(Rainfall) FROM World GROUP BY Season;'):\n",
    "    print(row)"
   ]
  },
  {
   "cell_type": "code",
   "execution_count": null,
   "id": "fd2e9c97",
   "metadata": {},
   "outputs": [],
   "source": [
    "# Answer 9\n",
    "words = ['The', 'quick', 'brown', 'fox', 'jumps', 'over', 'the', 'lazy', 'dog']"
   ]
  },
  {
   "cell_type": "code",
   "execution_count": 21,
   "id": "2d49f527",
   "metadata": {},
   "outputs": [
    {
     "name": "stdout",
     "output_type": "stream",
     "text": [
      "['THE', 'QUICK', 'BROWN', 'FOX', 'JUMPS', 'OVER', 'THE', 'LAZY', 'DOG']\n"
     ]
    }
   ],
   "source": [
    "# a) \n",
    "list1 = [w.upper() for w in words]\n",
    "print(list1)"
   ]
  },
  {
   "cell_type": "code",
   "execution_count": 22,
   "id": "38429c0e",
   "metadata": {},
   "outputs": [
    {
     "name": "stdout",
     "output_type": "stream",
     "text": [
      "['the', 'quick', 'brown', 'fox', 'jumps', 'over', 'the', 'lazy', 'dog']\n"
     ]
    }
   ],
   "source": [
    "# b) \n",
    "list2 = [w.lower() for w in words]\n",
    "print(list2)\n"
   ]
  },
  {
   "cell_type": "code",
   "execution_count": 23,
   "id": "34f1755b",
   "metadata": {},
   "outputs": [
    {
     "name": "stdout",
     "output_type": "stream",
     "text": [
      "[3, 5, 5, 3, 5, 4, 3, 4, 3]\n"
     ]
    }
   ],
   "source": [
    "# c) \n",
    "list3 = [len(w) for w in words]\n",
    "print(list3)"
   ]
  },
  {
   "cell_type": "code",
   "execution_count": 24,
   "id": "e948f886",
   "metadata": {},
   "outputs": [
    {
     "name": "stdout",
     "output_type": "stream",
     "text": [
      "[['THE', 'the', 3], ['QUICK', 'quick', 5], ['BROWN', 'brown', 5], ['FOX', 'fox', 3], ['JUMPS', 'jumps', 5], ['OVER', 'over', 4], ['THE', 'the', 3], ['LAZY', 'lazy', 4], ['DOG', 'dog', 3]]\n"
     ]
    }
   ],
   "source": [
    "# d) \n",
    "list4 = [[w.upper(),w.lower(),len(w) ] for w in words]\n",
    "print(list4)"
   ]
  },
  {
   "cell_type": "code",
   "execution_count": 25,
   "id": "b619d0c5",
   "metadata": {},
   "outputs": [
    {
     "name": "stdout",
     "output_type": "stream",
     "text": [
      "['quick', 'brown', 'jumps', 'over', 'lazy']\n"
     ]
    }
   ],
   "source": [
    "# e)\n",
    "list5 = [w for w in words if len(w) >= 4]\n",
    "print(list5)"
   ]
  },
  {
   "cell_type": "code",
   "execution_count": null,
   "id": "30ca1d33",
   "metadata": {},
   "outputs": [],
   "source": []
  }
 ],
 "metadata": {
  "kernelspec": {
   "display_name": "Python 3 (ipykernel)",
   "language": "python",
   "name": "python3"
  },
  "language_info": {
   "codemirror_mode": {
    "name": "ipython",
    "version": 3
   },
   "file_extension": ".py",
   "mimetype": "text/x-python",
   "name": "python",
   "nbconvert_exporter": "python",
   "pygments_lexer": "ipython3",
   "version": "3.9.12"
  }
 },
 "nbformat": 4,
 "nbformat_minor": 5
}
